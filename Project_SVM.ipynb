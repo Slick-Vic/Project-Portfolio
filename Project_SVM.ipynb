{
 "cells": [
  {
   "cell_type": "markdown",
   "metadata": {},
   "source": [
    "# Support Vector Machines"
   ]
  },
  {
   "cell_type": "markdown",
   "metadata": {},
   "source": [
    "First, load the standard packages."
   ]
  },
  {
   "cell_type": "code",
   "execution_count": 1,
   "metadata": {},
   "outputs": [],
   "source": [
    "import numpy as np\n",
    "import pandas as pd\n",
    "from sklearn import linear_model\n",
    "import matplotlib.pyplot as plt\n",
    "from sklearn import svm\n",
    "\n",
    "%matplotlib inline"
   ]
  },
  {
   "cell_type": "markdown",
   "metadata": {},
   "source": [
    "Read the 'quidditch_training.csv' file into a Data Frame."
   ]
  },
  {
   "cell_type": "code",
   "execution_count": 2,
   "metadata": {},
   "outputs": [
    {
     "name": "stdout",
     "output_type": "stream",
     "text": [
      "(101266, 48)\n"
     ]
    }
   ],
   "source": [
    "df = pd.read_csv(\"quidditch_training.csv\")\n",
    "print(df.shape)"
   ]
  },
  {
   "cell_type": "markdown",
   "metadata": {},
   "source": [
    "Get the rows and columns of the Data Frame to help split matrix into training and testing sets."
   ]
  },
  {
   "cell_type": "code",
   "execution_count": 3,
   "metadata": {},
   "outputs": [],
   "source": [
    "df1 = df.values\n",
    "df1 = df1[:,2:]"
   ]
  },
  {
   "cell_type": "markdown",
   "metadata": {},
   "source": [
    "Cleaning data for poorly structured features and irrelevant data."
   ]
  },
  {
   "cell_type": "code",
   "execution_count": 4,
   "metadata": {},
   "outputs": [],
   "source": [
    "for i in range(2):\n",
    "    df1[:,13] += df1[:,14]\n",
    "    df1 = np.delete(df1, [14], 1)"
   ]
  },
  {
   "cell_type": "code",
   "execution_count": 5,
   "metadata": {},
   "outputs": [],
   "source": [
    "colDel = []\n",
    "row, col = df1.shape\n",
    "\n",
    "for i in range(row):\n",
    "    for j in range(col):\n",
    "        if df1[i][j] == '?':\n",
    "            if j not in colDel:\n",
    "                colDel.append(j)"
   ]
  },
  {
   "cell_type": "code",
   "execution_count": 6,
   "metadata": {},
   "outputs": [],
   "source": [
    "i = 0\n",
    "while (i != len(colDel)):\n",
    "    df1 = np.delete(df1, colDel[i], 1)\n",
    "    i += 1"
   ]
  },
  {
   "cell_type": "markdown",
   "metadata": {},
   "source": [
    "Splitting the data by features and target values."
   ]
  },
  {
   "cell_type": "code",
   "execution_count": 7,
   "metadata": {},
   "outputs": [],
   "source": [
    "X = df1[:,:-1]\n",
    "Y = df1[:,-1]"
   ]
  },
  {
   "cell_type": "markdown",
   "metadata": {},
   "source": [
    "Creating training/test sets by splitting both X and Y sets. In addition, creating the penalty parameter, c, for the margin."
   ]
  },
  {
   "cell_type": "code",
   "execution_count": 8,
   "metadata": {},
   "outputs": [],
   "source": [
    "row, col = df1.shape\n",
    "rowHalf = row//2"
   ]
  },
  {
   "cell_type": "code",
   "execution_count": 9,
   "metadata": {},
   "outputs": [],
   "source": [
    "xTrain = X[:rowHalf]\n",
    "yTrain = Y[:rowHalf]\n",
    "xTest = X[rowHalf:]\n",
    "yTest = Y[rowHalf:]\n",
    "\n",
    "cMat = []\n",
    "for i in range(11):\n",
    "    cMat.append(10**(-i))"
   ]
  },
  {
   "cell_type": "markdown",
   "metadata": {},
   "source": [
    "Addressing some format issues found in the last column for the feature matrix -- failure to convert 'Ch' and 'No' as valid inputs."
   ]
  },
  {
   "cell_type": "code",
   "execution_count": 10,
   "metadata": {},
   "outputs": [],
   "source": [
    "for i in range(len(X[:,-1])):\n",
    "    if X[:,-1][i] == 'Ch':\n",
    "        X[i] = 1\n",
    "    else:\n",
    "        X[i] = 0"
   ]
  },
  {
   "cell_type": "code",
   "execution_count": 11,
   "metadata": {},
   "outputs": [],
   "source": [
    "accTrainSvm = []"
   ]
  },
  {
   "cell_type": "code",
   "execution_count": 12,
   "metadata": {},
   "outputs": [],
   "source": [
    "accTestSvm = []"
   ]
  },
  {
   "cell_type": "markdown",
   "metadata": {},
   "source": [
    "# Linear Kernel"
   ]
  },
  {
   "cell_type": "markdown",
   "metadata": {},
   "source": [
    "SVM regression using a linear kernel."
   ]
  },
  {
   "cell_type": "code",
   "execution_count": 13,
   "metadata": {},
   "outputs": [],
   "source": [
    "def svmLinear(xTrain, yTrain, xTest, yTest, c):\n",
    "    svc = svm.SVC(probability = False, kernel = 'linear', gamma='auto', C = c)\n",
    "    \n",
    "    svc.fit(xTrain, yTrain)\n",
    "    \n",
    "    yhatTrain = svc.predict(xTrain)\n",
    "    accTrain = np.mean(yhatTrain == yTrain)\n",
    "    \n",
    "    accTrainSvm.append(accTrain)\n",
    "    print(\"Train Accuracy = {0:f}\".format(accTrain))\n",
    "    \n",
    "    yhatTest = svc.predict(xTest)\n",
    "    accTest = np.mean(yhatTest == yTest)\n",
    "    \n",
    "    accTestSvm.append(accTest)\n",
    "    print(\"Test Accuracy = {0:f}\".format(accTest))"
   ]
  },
  {
   "cell_type": "code",
   "execution_count": 14,
   "metadata": {},
   "outputs": [
    {
     "name": "stdout",
     "output_type": "stream",
     "text": [
      "Train Accuracy = 0.537515\n",
      "Test Accuracy = 0.540833\n",
      "Train Accuracy = 0.537515\n",
      "Test Accuracy = 0.540833\n",
      "Train Accuracy = 0.537515\n",
      "Test Accuracy = 0.540833\n",
      "Train Accuracy = 0.537515\n",
      "Test Accuracy = 0.540833\n",
      "Train Accuracy = 0.537515\n",
      "Test Accuracy = 0.540833\n",
      "Train Accuracy = 0.537515\n",
      "Test Accuracy = 0.540833\n",
      "Train Accuracy = 0.537515\n",
      "Test Accuracy = 0.540833\n",
      "Train Accuracy = 0.537515\n",
      "Test Accuracy = 0.540833\n",
      "Train Accuracy = 0.537515\n",
      "Test Accuracy = 0.540833\n",
      "Train Accuracy = 0.537515\n",
      "Test Accuracy = 0.540833\n",
      "Train Accuracy = 0.537515\n",
      "Test Accuracy = 0.540833\n"
     ]
    }
   ],
   "source": [
    "for c in cMat:\n",
    "    svmLinear(xTrain, yTrain, xTest, yTest, c)"
   ]
  },
  {
   "cell_type": "code",
   "execution_count": 15,
   "metadata": {},
   "outputs": [
    {
     "ename": "NameError",
     "evalue": "name 'accTrainSVM' is not defined",
     "output_type": "error",
     "traceback": [
      "\u001b[1;31m---------------------------------------------------------------------------\u001b[0m",
      "\u001b[1;31mNameError\u001b[0m                                 Traceback (most recent call last)",
      "\u001b[1;32m<ipython-input-15-59dd61834911>\u001b[0m in \u001b[0;36m<module>\u001b[1;34m\u001b[0m\n\u001b[1;32m----> 1\u001b[1;33m \u001b[0mplt\u001b[0m\u001b[1;33m.\u001b[0m\u001b[0mplot\u001b[0m\u001b[1;33m(\u001b[0m\u001b[0mcMat\u001b[0m\u001b[1;33m,\u001b[0m \u001b[0maccTrainSVM\u001b[0m\u001b[1;33m,\u001b[0m \u001b[1;34m'ro-'\u001b[0m\u001b[1;33m)\u001b[0m\u001b[1;33m\u001b[0m\u001b[1;33m\u001b[0m\u001b[0m\n\u001b[0m\u001b[0;32m      2\u001b[0m \u001b[0mplt\u001b[0m\u001b[1;33m.\u001b[0m\u001b[0mplot\u001b[0m\u001b[1;33m(\u001b[0m\u001b[0mcMat\u001b[0m\u001b[1;33m,\u001b[0m \u001b[0maccTestSVM\u001b[0m\u001b[1;33m,\u001b[0m \u001b[1;34m'bo-'\u001b[0m\u001b[1;33m)\u001b[0m\u001b[1;33m\u001b[0m\u001b[1;33m\u001b[0m\u001b[0m\n\u001b[0;32m      3\u001b[0m \u001b[0mplt\u001b[0m\u001b[1;33m.\u001b[0m\u001b[0mgrid\u001b[0m\u001b[1;33m(\u001b[0m\u001b[1;33m)\u001b[0m\u001b[1;33m\u001b[0m\u001b[1;33m\u001b[0m\u001b[0m\n\u001b[0;32m      4\u001b[0m \u001b[0mplt\u001b[0m\u001b[1;33m.\u001b[0m\u001b[0mlegend\u001b[0m\u001b[1;33m(\u001b[0m\u001b[1;33m[\u001b[0m\u001b[1;34m'Training Accuracy'\u001b[0m\u001b[1;33m,\u001b[0m\u001b[1;34m'Test Accuracy'\u001b[0m\u001b[1;33m]\u001b[0m\u001b[1;33m,\u001b[0m \u001b[0mloc\u001b[0m \u001b[1;33m=\u001b[0m \u001b[1;34m'lower right'\u001b[0m\u001b[1;33m)\u001b[0m\u001b[1;33m\u001b[0m\u001b[1;33m\u001b[0m\u001b[0m\n",
      "\u001b[1;31mNameError\u001b[0m: name 'accTrainSVM' is not defined"
     ]
    }
   ],
   "source": [
    "plt.plot(cMat, accTrainSVM, 'ro-')\n",
    "plt.plot(cMat, accTestSVM, 'bo-')\n",
    "plt.grid()\n",
    "plt.legend(['Training Accuracy','Test Accuracy'], loc = 'lower right')"
   ]
  },
  {
   "cell_type": "markdown",
   "metadata": {},
   "source": [
    "We reset the values for both the trained and tested accuracy matrices as well as the penalty matrix for reuse."
   ]
  },
  {
   "cell_type": "code",
   "execution_count": null,
   "metadata": {},
   "outputs": [],
   "source": [
    "accTrainSvm.clear()\n",
    "accTestSvm.clear()"
   ]
  },
  {
   "cell_type": "markdown",
   "metadata": {},
   "source": [
    "# Radial Basis Function (RBF) Kernel"
   ]
  },
  {
   "cell_type": "markdown",
   "metadata": {},
   "source": [
    "SVM regression using a RBF kernel."
   ]
  },
  {
   "cell_type": "code",
   "execution_count": null,
   "metadata": {},
   "outputs": [],
   "source": [
    "def svmRBF(xTrain, yTrain, xTest, yTest, c):\n",
    "    svc = svm.SVC(probability = False, kernel = 'rbf', gamma='auto', C = c)\n",
    "    \n",
    "    svc.fit(xTrain, yTrain)\n",
    "    \n",
    "    yhatTrain = svc.predict(xTrain)\n",
    "    accTrain = np.mean(yhatTrain == yTrain)\n",
    "    \n",
    "    accTrainSvm.append(accTrain)\n",
    "    print(\"Train Accuracy = {0:f}\".format(accTrain))\n",
    "    \n",
    "    yhatTest = svc.predict(xTest)\n",
    "    accTest = np.mean(yhatTest == yTest)\n",
    "    \n",
    "    accTestSvm.append(accTest)\n",
    "    print(\"Test Accuracy = {0:f}\".format(accTest))"
   ]
  },
  {
   "cell_type": "code",
   "execution_count": null,
   "metadata": {},
   "outputs": [],
   "source": [
    "for c in cMat:\n",
    "    svmRBF(xTrain, yTrain, xTest, yTest, c)"
   ]
  },
  {
   "cell_type": "code",
   "execution_count": null,
   "metadata": {},
   "outputs": [],
   "source": [
    "plt.plot(cMat, accTrainSVM, 'ro-')\n",
    "plt.plot(cMat, accTestSVM, 'bo-')\n",
    "plt.grid()\n",
    "plt.legend(['Training Accuracy','Test Accuracy'], loc = 'lower right')"
   ]
  },
  {
   "cell_type": "code",
   "execution_count": null,
   "metadata": {},
   "outputs": [],
   "source": [
    "accTrainSvm.clear()\n",
    "accTestSvm.clear()"
   ]
  },
  {
   "cell_type": "markdown",
   "metadata": {},
   "source": [
    "# Polynomial Kernel"
   ]
  },
  {
   "cell_type": "markdown",
   "metadata": {},
   "source": [
    "SVM regression using a polynomial kernel."
   ]
  },
  {
   "cell_type": "code",
   "execution_count": null,
   "metadata": {},
   "outputs": [],
   "source": [
    "def svmPoly(xTrain, yTrain, xTest, yTest, c):\n",
    "    svc = svm.SVC(probability = False, kernel = 'poly', gamma='auto', C = c)\n",
    "    \n",
    "    svc.fit(xTrain, yTrain)\n",
    "    \n",
    "    yhatTrain = svc.predict(xTrain)\n",
    "    accTrain = np.mean(yhatTrain == yTrain)\n",
    "    \n",
    "    accTrainSvm.append(accTrain)\n",
    "    print(\"Train Accuracy = {0:f}\".format(accTrain))\n",
    "    \n",
    "    yhatTest = svc.predict(xTest)\n",
    "    accTest = np.mean(yhatTest == yTest)\n",
    "    \n",
    "    accTestSvm.append(accTest)\n",
    "    print(\"Test Accuracy = {0:f}\".format(accTest))"
   ]
  },
  {
   "cell_type": "code",
   "execution_count": null,
   "metadata": {},
   "outputs": [],
   "source": [
    "for c in cMat:\n",
    "    svmPoly(xTrain, yTrain, xTest, yTest, c)"
   ]
  },
  {
   "cell_type": "code",
   "execution_count": null,
   "metadata": {},
   "outputs": [],
   "source": [
    "plt.plot(cMat, accTrainSVM, 'ro-')\n",
    "plt.plot(cMat, accTestSVM, 'bo-')\n",
    "plt.grid()\n",
    "plt.legend(['Training Accuracy','Test Accuracy'], loc = 'lower right')"
   ]
  },
  {
   "cell_type": "code",
   "execution_count": null,
   "metadata": {},
   "outputs": [],
   "source": []
  }
 ],
 "metadata": {
  "kernelspec": {
   "display_name": "Python 3",
   "language": "python",
   "name": "python3"
  },
  "language_info": {
   "codemirror_mode": {
    "name": "ipython",
    "version": 3
   },
   "file_extension": ".py",
   "mimetype": "text/x-python",
   "name": "python",
   "nbconvert_exporter": "python",
   "pygments_lexer": "ipython3",
   "version": "3.7.1"
  }
 },
 "nbformat": 4,
 "nbformat_minor": 2
}
