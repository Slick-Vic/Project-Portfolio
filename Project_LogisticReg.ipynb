{
 "cells": [
  {
   "cell_type": "markdown",
   "metadata": {},
   "source": [
    "# Logistic Regression"
   ]
  },
  {
   "cell_type": "markdown",
   "metadata": {},
   "source": [
    "First, load the standard packages."
   ]
  },
  {
   "cell_type": "code",
   "execution_count": 1,
   "metadata": {},
   "outputs": [],
   "source": [
    "import numpy as np\n",
    "import pandas as pd\n",
    "from sklearn import linear_model as linMod\n",
    "import matplotlib.pyplot as plt\n",
    "from sklearn.preprocessing import PolynomialFeatures as PolyF\n",
    "%matplotlib inline"
   ]
  },
  {
   "cell_type": "markdown",
   "metadata": {},
   "source": [
    "Read the 'quidditch_training.csv' file into a Data Frame."
   ]
  },
  {
   "cell_type": "code",
   "execution_count": 2,
   "metadata": {},
   "outputs": [
    {
     "name": "stdout",
     "output_type": "stream",
     "text": [
      "(101266, 48)\n"
     ]
    }
   ],
   "source": [
    "df = pd.read_csv(\"quidditch_training.csv\")\n",
    "print(df.shape)"
   ]
  },
  {
   "cell_type": "markdown",
   "metadata": {},
   "source": [
    "Get the rows and columns of the Data Frame to help split matrix into training and testing sets."
   ]
  },
  {
   "cell_type": "code",
   "execution_count": 3,
   "metadata": {},
   "outputs": [],
   "source": [
    "df1 = df.values\n",
    "df1 = df1[:,2:]"
   ]
  },
  {
   "cell_type": "markdown",
   "metadata": {},
   "source": [
    "Cleaning data for poorly structured features and irrelevant data."
   ]
  },
  {
   "cell_type": "code",
   "execution_count": 4,
   "metadata": {},
   "outputs": [],
   "source": [
    "for i in range(2):\n",
    "    df1[:,13] += df1[:,14]\n",
    "    df1 = np.delete(df1, [14], 1)"
   ]
  },
  {
   "cell_type": "code",
   "execution_count": 5,
   "metadata": {},
   "outputs": [],
   "source": [
    "colDel = []\n",
    "row, col = df1.shape\n",
    "\n",
    "for i in range(row):\n",
    "    for j in range(col):\n",
    "        if df1[i][j] == '?':\n",
    "            if j not in colDel:\n",
    "                colDel.append(j)"
   ]
  },
  {
   "cell_type": "code",
   "execution_count": 6,
   "metadata": {},
   "outputs": [],
   "source": [
    "i = 0\n",
    "while (i != len(colDel)):\n",
    "    df1 = np.delete(df1, colDel[i], 1)\n",
    "    i += 1\n",
    "    "
   ]
  },
  {
   "cell_type": "markdown",
   "metadata": {},
   "source": [
    "Splitting the data by features and target values."
   ]
  },
  {
   "cell_type": "code",
   "execution_count": 8,
   "metadata": {},
   "outputs": [],
   "source": [
    "X = df1[:,:-1]\n",
    "Y = df1[:,-1]"
   ]
  },
  {
   "cell_type": "markdown",
   "metadata": {},
   "source": [
    "Creating training/test sets by splitting both X and Y sets. In addition, creating the penalty parameter, c, for the margin."
   ]
  },
  {
   "cell_type": "code",
   "execution_count": 7,
   "metadata": {},
   "outputs": [],
   "source": [
    "row, col = df1.shape\n",
    "rowHalf = row//2"
   ]
  },
  {
   "cell_type": "code",
   "execution_count": 9,
   "metadata": {},
   "outputs": [],
   "source": [
    "xTrain = X[:rowHalf]\n",
    "yTrain = Y[:rowHalf]\n",
    "xTest = X[rowHalf:]\n",
    "yTest = Y[rowHalf:]\n",
    "\n",
    "cMat = []\n",
    "for i in range(11):\n",
    "    #cMat.append(10**i) ##produces values with 50% accuracy on training/test data\n",
    "    cMat.append(10**(5-i))"
   ]
  },
  {
   "cell_type": "markdown",
   "metadata": {},
   "source": [
    "Addressing some format issues found in the last column for the feature matrix -- failure to convert 'Ch' and 'No' as valid inputs."
   ]
  },
  {
   "cell_type": "code",
   "execution_count": 10,
   "metadata": {},
   "outputs": [],
   "source": [
    "for i in range(len(X[:,-1])):\n",
    "    if X[:,-1][i] == 'Ch':\n",
    "        X[i] = 1\n",
    "    else:\n",
    "        X[i] = 0"
   ]
  },
  {
   "cell_type": "code",
   "execution_count": 11,
   "metadata": {},
   "outputs": [],
   "source": [
    "accTrainLogReg = []"
   ]
  },
  {
   "cell_type": "code",
   "execution_count": 12,
   "metadata": {},
   "outputs": [],
   "source": [
    "accTestLogReg = []"
   ]
  },
  {
   "cell_type": "code",
   "execution_count": 13,
   "metadata": {},
   "outputs": [],
   "source": [
    "cLogReg = []"
   ]
  },
  {
   "cell_type": "markdown",
   "metadata": {},
   "source": [
    "# Lasso (L1) Regularization "
   ]
  },
  {
   "cell_type": "markdown",
   "metadata": {},
   "source": [
    "Logistic regression using a lasso regularization."
   ]
  },
  {
   "cell_type": "code",
   "execution_count": 14,
   "metadata": {},
   "outputs": [],
   "source": [
    "def logRegLasso(xTrain, yTrain, xTest, yTest, c):\n",
    "    logReg = linMod.LogisticRegression(C=c, penalty='l1', warm_start=True,solver='saga')\n",
    "    \n",
    "    logReg.fit(xTrain, yTrain)\n",
    "    \n",
    "    yhatTrain = logReg.predict(xTrain)\n",
    "    accTrain = np.mean(yhatTrain == yTrain)\n",
    "    \n",
    "    accTrainLogReg.append(accTrain)\n",
    "    print(\"Train Accuracy = %f\"%accTrain)\n",
    "    \n",
    "    yhatTest = logReg.predict(xTest)\n",
    "    accTest = np.mean(yhatTest == yTest)\n",
    "    \n",
    "    accTestLogReg.append(accTest)\n",
    "    print(\"Test Accuracy = %f\"% accTest)\n",
    "\n",
    "    cLogReg.append(c)"
   ]
  },
  {
   "cell_type": "code",
   "execution_count": 15,
   "metadata": {},
   "outputs": [
    {
     "name": "stdout",
     "output_type": "stream",
     "text": [
      "Train Accuracy = 0.537515\n",
      "Test Accuracy = 0.540833\n",
      "Train Accuracy = 0.537515\n",
      "Test Accuracy = 0.540833\n",
      "Train Accuracy = 0.537515\n",
      "Test Accuracy = 0.540833\n",
      "Train Accuracy = 0.462485\n",
      "Test Accuracy = 0.459167\n",
      "Train Accuracy = 0.537515\n",
      "Test Accuracy = 0.540833\n",
      "Train Accuracy = 0.462485\n",
      "Test Accuracy = 0.459167\n",
      "Train Accuracy = 0.462485\n",
      "Test Accuracy = 0.459167\n",
      "Train Accuracy = 0.537515\n",
      "Test Accuracy = 0.540833\n",
      "Train Accuracy = 0.462485\n",
      "Test Accuracy = 0.459167\n",
      "Train Accuracy = 0.462485\n",
      "Test Accuracy = 0.459167\n",
      "Train Accuracy = 0.537515\n",
      "Test Accuracy = 0.540833\n"
     ]
    }
   ],
   "source": [
    "for c in cMat:\n",
    "    logRegLasso(xTrain, yTrain, xTest, yTest, c)"
   ]
  },
  {
   "cell_type": "code",
   "execution_count": 16,
   "metadata": {},
   "outputs": [
    {
     "data": {
      "text/plain": [
       "<matplotlib.legend.Legend at 0x1867448c4a8>"
      ]
     },
     "execution_count": 16,
     "metadata": {},
     "output_type": "execute_result"
    },
    {
     "data": {
      "image/png": "[encoded data removed]",
      "text/plain": [
       "<Figure size 432x288 with 1 Axes>"
      ]
     },
     "metadata": {
      "needs_background": "light"
     },
     "output_type": "display_data"
    }
   ],
   "source": [
    "plt.plot(cLogReg, accTrainLogReg, 'ro-')\n",
    "plt.plot(cLogReg, accTestLogReg, 'bo-')\n",
    "plt.grid()\n",
    "plt.legend(['Training Accuracy','Test Accuracy'], loc = 'lower right')"
   ]
  },
  {
   "cell_type": "markdown",
   "metadata": {},
   "source": [
    "We reset the values for both the trained and tested accuracy matrices as well as the penalty matrix for reuse."
   ]
  },
  {
   "cell_type": "code",
   "execution_count": 17,
   "metadata": {},
   "outputs": [],
   "source": [
    "accTrainLogReg.clear()\n",
    "accTestLogReg.clear()\n",
    "cLogReg.clear()"
   ]
  },
  {
   "cell_type": "markdown",
   "metadata": {},
   "source": [
    "# Ridge (L2) Regularization"
   ]
  },
  {
   "cell_type": "markdown",
   "metadata": {},
   "source": [
    "Logistic regression using a Ridge Regularization."
   ]
  },
  {
   "cell_type": "code",
   "execution_count": 18,
   "metadata": {},
   "outputs": [],
   "source": [
    "def logRegRidge(xTrain, yTrain, xTest, yTest, c):\n",
    "    logReg = linMod.LogisticRegression(C=c, penalty='l2', warm_start=True,solver='saga')\n",
    "    \n",
    "    logReg.fit(xTrain, yTrain)\n",
    "    \n",
    "    yhatTrain = logReg.predict(xTrain)\n",
    "    accTrain = np.mean(yhatTrain == yTrain)\n",
    "    \n",
    "    accTrainLogReg.append(accTrain)\n",
    "    print(\"Train Accuracy = %f\"%accTrain)\n",
    "    \n",
    "    yhatTest = logReg.predict(xTest)\n",
    "    accTest = np.mean(yhatTest == yTest)\n",
    "    \n",
    "    accTestLogReg.append(accTest)\n",
    "    print(\"Test Accuracy = %f\"% accTest)\n",
    "\n",
    "    cLogReg.append(c)"
   ]
  },
  {
   "cell_type": "code",
   "execution_count": 19,
   "metadata": {},
   "outputs": [
    {
     "name": "stdout",
     "output_type": "stream",
     "text": [
      "Train Accuracy = 0.462485\n",
      "Test Accuracy = 0.459167\n",
      "Train Accuracy = 0.537515\n",
      "Test Accuracy = 0.540833\n",
      "Train Accuracy = 0.462485\n",
      "Test Accuracy = 0.459167\n",
      "Train Accuracy = 0.462485\n",
      "Test Accuracy = 0.459167\n",
      "Train Accuracy = 0.462485\n",
      "Test Accuracy = 0.459167\n",
      "Train Accuracy = 0.462485\n",
      "Test Accuracy = 0.459167\n",
      "Train Accuracy = 0.462485\n",
      "Test Accuracy = 0.459167\n",
      "Train Accuracy = 0.462485\n",
      "Test Accuracy = 0.459167\n",
      "Train Accuracy = 0.537515\n",
      "Test Accuracy = 0.540833\n",
      "Train Accuracy = 0.462485\n",
      "Test Accuracy = 0.459167\n",
      "Train Accuracy = 0.462485\n",
      "Test Accuracy = 0.459167\n"
     ]
    }
   ],
   "source": [
    "for c in cMat:\n",
    "    logRegRidge(xTrain, yTrain, xTest, yTest, c)"
   ]
  },
  {
   "cell_type": "code",
   "execution_count": null,
   "metadata": {},
   "outputs": [
    {
     "data": {
      "text/plain": [
       "<matplotlib.legend.Legend at 0x186728a26a0>"
      ]
     },
     "execution_count": 20,
     "metadata": {},
     "output_type": "execute_result"
    },
    {
     "data": {
      "image/png": "[encoded data removed]",
      "text/plain": [
       "<Figure size 432x288 with 1 Axes>"
      ]
     },
     "metadata": {
      "needs_background": "light"
     },
     "output_type": "display_data"
    }
   ],
   "source": [
    "plt.plot(cLogReg, accTrainLogReg, 'ro-')\n",
    "plt.plot(cLogReg, accTestLogReg, 'bo-')\n",
    "plt.grid()\n",
    "plt.legend(['Training Accuracy','Test Accuracy'], loc = 'lower right')"
   ]
  },
  {
   "cell_type": "code",
   "execution_count": null,
   "metadata": {},
   "outputs": [],
   "source": [
    "accTrainLogReg.clear()\n",
    "accTestLogReg.clear()\n",
    "cLogReg.clear()"
   ]
  },
  {
   "cell_type": "markdown",
   "metadata": {},
   "source": [
    "# Polynomial Feature Transformation"
   ]
  },
  {
   "cell_type": "markdown",
   "metadata": {},
   "source": [
    "Logistic regression using a polynomial feature transformation."
   ]
  },
  {
   "cell_type": "code",
   "execution_count": null,
   "metadata": {},
   "outputs": [],
   "source": [
    "poly = PolyF(degree = 2)"
   ]
  },
  {
   "cell_type": "code",
   "execution_count": null,
   "metadata": {},
   "outputs": [
    {
     "name": "stdout",
     "output_type": "stream",
     "text": [
      "(50633, 780) (50633, 780)\n"
     ]
    }
   ],
   "source": [
    "xtTrain = poly.fit_transform(xTrain)\n",
    "xtTest = poly.fit_transform(xTest)\n",
    "print(xtTrain.shape, xtTest.shape)"
   ]
  },
  {
   "cell_type": "code",
   "execution_count": null,
   "metadata": {},
   "outputs": [
    {
     "name": "stdout",
     "output_type": "stream",
     "text": [
      "Train Accuracy = 0.537515\n",
      "Test Accuracy = 0.540833\n"
     ]
    },
    {
     "name": "stderr",
     "output_type": "stream",
     "text": [
      "C:\\Users\\victo\\Anaconda3\\lib\\site-packages\\sklearn\\linear_model\\sag.py:334: ConvergenceWarning: The max_iter was reached which means the coef_ did not converge\n",
      "  \"the coef_ did not converge\", ConvergenceWarning)\n"
     ]
    },
    {
     "name": "stdout",
     "output_type": "stream",
     "text": [
      "Train Accuracy = 0.537515\n",
      "Test Accuracy = 0.540833\n"
     ]
    },
    {
     "name": "stderr",
     "output_type": "stream",
     "text": [
      "C:\\Users\\victo\\Anaconda3\\lib\\site-packages\\sklearn\\linear_model\\sag.py:334: ConvergenceWarning: The max_iter was reached which means the coef_ did not converge\n",
      "  \"the coef_ did not converge\", ConvergenceWarning)\n"
     ]
    },
    {
     "name": "stdout",
     "output_type": "stream",
     "text": [
      "Train Accuracy = 0.537515\n",
      "Test Accuracy = 0.540833\n",
      "Train Accuracy = 0.537515\n",
      "Test Accuracy = 0.540833\n",
      "Train Accuracy = 0.537515\n",
      "Test Accuracy = 0.540833\n",
      "Train Accuracy = 0.537515\n",
      "Test Accuracy = 0.540833\n",
      "Train Accuracy = 0.537515\n",
      "Test Accuracy = 0.540833\n",
      "Train Accuracy = 0.537515\n",
      "Test Accuracy = 0.540833\n",
      "Train Accuracy = 0.537515\n",
      "Test Accuracy = 0.540833\n",
      "Train Accuracy = 0.537515\n",
      "Test Accuracy = 0.540833\n",
      "Train Accuracy = 0.537515\n",
      "Test Accuracy = 0.540833\n"
     ]
    },
    {
     "data": {
      "text/plain": [
       "<matplotlib.legend.Legend at 0x18672926d68>"
      ]
     },
     "execution_count": 24,
     "metadata": {},
     "output_type": "execute_result"
    },
    {
     "data": {
      "image/png": "[encoded data removed]",
      "text/plain": [
       "<Figure size 432x288 with 1 Axes>"
      ]
     },
     "metadata": {
      "needs_background": "light"
     },
     "output_type": "display_data"
    }
   ],
   "source": [
    "for c in cMat:\n",
    "    logRegLasso(xtTrain,yTrain,xtTest,yTest,c)\n",
    "    \n",
    "plt.plot(cLogReg, accTrainLogReg, 'ro-')\n",
    "plt.plot(cLogReg, accTestLogReg, 'bo-')\n",
    "plt.grid()\n",
    "plt.legend(['Training Accuracy','Test Accuracy'], loc = 'lower right')"
   ]
  },
  {
   "cell_type": "code",
   "execution_count": null,
   "metadata": {},
   "outputs": [],
   "source": [
    "accTrainLogReg.clear()\n",
    "accTestLogReg.clear()"
   ]
  },
  {
   "cell_type": "code",
   "execution_count": null,
   "metadata": {},
   "outputs": [
    {
     "name": "stdout",
     "output_type": "stream",
     "text": [
      "Train Accuracy = 0.537515\n",
      "Test Accuracy = 0.540833\n",
      "Train Accuracy = 0.537515\n",
      "Test Accuracy = 0.540833\n"
     ]
    },
    {
     "name": "stderr",
     "output_type": "stream",
     "text": [
      "C:\\Users\\victo\\Anaconda3\\lib\\site-packages\\sklearn\\linear_model\\sag.py:334: ConvergenceWarning: The max_iter was reached which means the coef_ did not converge\n",
      "  \"the coef_ did not converge\", ConvergenceWarning)\n"
     ]
    },
    {
     "name": "stdout",
     "output_type": "stream",
     "text": [
      "Train Accuracy = 0.537515\n",
      "Test Accuracy = 0.540833\n"
     ]
    }
   ],
   "source": [
    "for c in cMat:\n",
    "    logRegRidge(xtTrain, yTrain, xtTest, yTest,c)\n",
    "    \n",
    "plt.plot(cLogReg, accTrainLogReg, 'ro-')\n",
    "plt.plot(cLogReg, accTestLogReg, 'bo-')\n",
    "plt.grid()\n",
    "plt.legend(['Training Accuracy','Test Accuracy'], loc = 'lower right')"
   ]
  },
  {
   "cell_type": "code",
   "execution_count": null,
   "metadata": {},
   "outputs": [],
   "source": []
  },
  {
   "cell_type": "code",
   "execution_count": null,
   "metadata": {},
   "outputs": [],
   "source": []
  }
 ],
 "metadata": {
  "kernelspec": {
   "display_name": "Python 3",
   "language": "python",
   "name": "python3"
  },
  "language_info": {
   "codemirror_mode": {
    "name": "ipython",
    "version": 3
   },
   "file_extension": ".py",
   "mimetype": "text/x-python",
   "name": "python",
   "nbconvert_exporter": "python",
   "pygments_lexer": "ipython3",
   "version": "3.7.1"
  }
 },
 "nbformat": 4,
 "nbformat_minor": 2
}
